{
 "cells": [
  {
   "cell_type": "code",
   "execution_count": null,
   "metadata": {},
   "outputs": [],
   "source": [
    "from pygbif import occurrences as occ\n",
    "from pygbif import species"
   ]
  },
  {
   "cell_type": "code",
   "execution_count": null,
   "metadata": {},
   "outputs": [],
   "source": [
    "years = [2001, 2002]\n",
    "\n",
    "keys = species.name_suggest(q=\"Aves\", rank=\"Class\")[0]\n",
    "res = occ.search(taxonKey=keys[\"key\"], year=years)"
   ]
  },
  {
   "attachments": {},
   "cell_type": "markdown",
   "metadata": {},
   "source": [
    "# Show Map"
   ]
  },
  {
   "cell_type": "code",
   "execution_count": null,
   "metadata": {},
   "outputs": [],
   "source": [
    "from pygbif import maps\n",
    "\n",
    "out = maps.map(taxonKey=keys[\"key\"], year=years, style=\"classic.point\")"
   ]
  },
  {
   "cell_type": "code",
   "execution_count": null,
   "metadata": {},
   "outputs": [],
   "source": [
    "import requests\n",
    "\n",
    "\n",
    "base = \"https://api.gbif.org/v2/map/occurrence/density/capabilities.json?\"\n",
    "parames = {\"taxonKey\": keys[\"key\"], \"year\": years}\n",
    "s_parames = \"&\".join([f\"{k}={','.join(list(map(str,v)))}\" if isinstance(v, list) else f\"{k}={v}\" for k, v in parames.items()])\n",
    "\n",
    "response = requests.get(base + s_parames)"
   ]
  },
  {
   "cell_type": "code",
   "execution_count": null,
   "metadata": {},
   "outputs": [],
   "source": [
    "response.json()"
   ]
  },
  {
   "attachments": {},
   "cell_type": "markdown",
   "metadata": {},
   "source": [
    "# Download CSV file directory"
   ]
  },
  {
   "cell_type": "code",
   "execution_count": null,
   "metadata": {},
   "outputs": [],
   "source": [
    "# geometry should be set EPSG:4326 format.\n",
    "geometry = \"POLYGON((30.1 10.1, 40 40, 20 40, 10 20, 30.1 10.1))\"\n",
    "years = \"2001\"\n",
    "download_info = occ.download([f'taxonKey = {keys[\"key\"]},', f\"year = {years}\", f\"geometry = {geometry}\"], user=\"xxxxx\", pwd=\"xxxxx\", email=\"xxxxx@yyyy\")"
   ]
  },
  {
   "cell_type": "code",
   "execution_count": null,
   "metadata": {},
   "outputs": [],
   "source": [
    "import time\n",
    "\n",
    "download_id = download_info[0]\n",
    "download_path = \"../data\"\n",
    "\n",
    "download_status = False\n",
    "while 1:\n",
    "    try:\n",
    "        occ.download_get(download_id, path=download_path)\n",
    "        download_status = True\n",
    "    except:\n",
    "        print(\"Preparing to start downloading...\")\n",
    "        time.sleep(30)\n",
    "    \n",
    "    if download_status:\n",
    "        break"
   ]
  },
  {
   "cell_type": "code",
   "execution_count": null,
   "metadata": {},
   "outputs": [],
   "source": [
    "import pandas as pd\n",
    "\n",
    "bird = pd.read_csv(f\"{download_path}/{download_id}.zip\", sep=\"\\t\")\n",
    "bird"
   ]
  },
  {
   "cell_type": "code",
   "execution_count": null,
   "metadata": {},
   "outputs": [],
   "source": [
    "bird.species.value_counts()"
   ]
  },
  {
   "cell_type": "code",
   "execution_count": null,
   "metadata": {},
   "outputs": [],
   "source": []
  }
 ],
 "metadata": {
  "kernelspec": {
   "display_name": "Python 3",
   "language": "python",
   "name": "python3"
  },
  "language_info": {
   "codemirror_mode": {
    "name": "ipython",
    "version": 3
   },
   "file_extension": ".py",
   "mimetype": "text/x-python",
   "name": "python",
   "nbconvert_exporter": "python",
   "pygments_lexer": "ipython3",
   "version": "3.10.11"
  },
  "orig_nbformat": 4
 },
 "nbformat": 4,
 "nbformat_minor": 2
}
